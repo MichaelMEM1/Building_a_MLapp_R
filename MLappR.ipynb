{
 "cells": [
  {
   "cell_type": "markdown",
   "id": "25c3f7f8-a766-4b32-afb0-d590467fbf68",
   "metadata": {},
   "source": [
    "# Building a Machine Learning App in R"
   ]
  },
  {
   "cell_type": "markdown",
   "id": "00747c8e-8d0a-456c-b93e-e4daaab99b64",
   "metadata": {},
   "source": [
    "## BSGP 7030 Summer 2024"
   ]
  },
  {
   "cell_type": "markdown",
   "id": "5348a817-d04e-4553-88b4-0d4bf7fb4de1",
   "metadata": {},
   "source": [
    "### Loading the necessary libraries"
   ]
  },
  {
   "cell_type": "code",
   "execution_count": 1,
   "id": "8b10cfd0-1341-4b39-a6ee-8804c0795871",
   "metadata": {},
   "outputs": [
    {
     "name": "stderr",
     "output_type": "stream",
     "text": [
      "Loading required package: ggplot2\n",
      "\n",
      "Loading required package: lattice\n",
      "\n",
      "\n",
      "Attaching package: ‘kernlab’\n",
      "\n",
      "\n",
      "The following object is masked from ‘package:ggplot2’:\n",
      "\n",
      "    alpha\n",
      "\n",
      "\n",
      "randomForest 4.6-14\n",
      "\n",
      "Type rfNews() to see new features/changes/bug fixes.\n",
      "\n",
      "\n",
      "Attaching package: ‘randomForest’\n",
      "\n",
      "\n",
      "The following object is masked from ‘package:ggplot2’:\n",
      "\n",
      "    margin\n",
      "\n",
      "\n",
      "\n",
      "Attaching package: ‘ellipse’\n",
      "\n",
      "\n",
      "The following object is masked from ‘package:graphics’:\n",
      "\n",
      "    pairs\n",
      "\n",
      "\n"
     ]
    }
   ],
   "source": [
    "library(caret)\n",
    "library(kernlab)\n",
    "library(ggplot2)\n",
    "library(lattice)\n",
    "library(randomForest)\n",
    "library(ellipse)"
   ]
  },
  {
   "cell_type": "markdown",
   "id": "f25daebe-7160-4f10-bc35-261da98ffc0b",
   "metadata": {},
   "source": [
    "### Loading the Iris Dataset and renaming the Dataset"
   ]
  },
  {
   "cell_type": "code",
   "execution_count": 2,
   "id": "bf2eab97-653a-4cde-be40-5d18a35e1661",
   "metadata": {},
   "outputs": [],
   "source": [
    "data(iris)\n",
    "\n",
    "dataset <- iris"
   ]
  },
  {
   "cell_type": "markdown",
   "id": "d56b8384-7f23-4253-a159-3721a6e3fe02",
   "metadata": {},
   "source": [
    "### Alternative Way of loading the Iris dataset: Listed as comments as not cause issue in the code"
   ]
  },
  {
   "cell_type": "code",
   "execution_count": 3,
   "id": "02fce741-22b2-4247-ae8d-6446a405d9e6",
   "metadata": {},
   "outputs": [],
   "source": [
    "# creating a variable for the iris.csv file \n",
    "    # filename <- \"iris.csv\"\n",
    "# loading the iris.csv from a local directory\n",
    "    #dataset <- read.csv(filename, header=FALSE)\n",
    "# set the column names in the dataset\n",
    " #colnames(dataset) <- c(\"Sepal.Length\",\"Sepal.Width\",\"Petal.Length\",\"Petal.Width\",\"Species\")"
   ]
  },
  {
   "cell_type": "markdown",
   "id": "26168ddd-8726-4744-9e6a-68c08a4419d2",
   "metadata": {},
   "source": [
    "### 2.3 Creating a validation dataset"
   ]
  },
  {
   "cell_type": "markdown",
   "id": "64d74605-c0cf-4deb-a5cc-6208b91f9d63",
   "metadata": {},
   "source": [
    "#### Creating a list of 80% of the rows in the original dataset as a training dataset"
   ]
  },
  {
   "cell_type": "code",
   "execution_count": 4,
   "id": "5b0b18a3-8afc-4b83-8d66-084c1e1d6c44",
   "metadata": {},
   "outputs": [],
   "source": [
    "validation_index <- createDataPartition(dataset$Species, p=0.80, list=FALSE)"
   ]
  },
  {
   "cell_type": "markdown",
   "id": "67716a82-0e16-4d89-a9c6-e7bcd3f87b46",
   "metadata": {},
   "source": [
    "#### Selecting 20% of the data for validation"
   ]
  },
  {
   "cell_type": "code",
   "execution_count": 5,
   "id": "fbc38f6d-9d43-434b-8701-08ef0a665f27",
   "metadata": {},
   "outputs": [],
   "source": [
    "validation <- dataset[-validation_index,]"
   ]
  },
  {
   "cell_type": "markdown",
   "id": "c09a6630-649b-4b54-84a8-f000cd56d4a3",
   "metadata": {},
   "source": [
    "#### Using the remaning 80% of data to train and test the models"
   ]
  },
  {
   "cell_type": "code",
   "execution_count": 6,
   "id": "5f92bcc8-1097-401c-b56a-0e0ffdfe05c1",
   "metadata": {},
   "outputs": [],
   "source": [
    "dataset <- dataset[validation_index,]"
   ]
  },
  {
   "cell_type": "markdown",
   "id": "98c55139-515b-4a48-9b0f-36f36d0b8fe4",
   "metadata": {},
   "source": [
    "### 3. Summarizing the Dataset"
   ]
  },
  {
   "cell_type": "markdown",
   "id": "632b6076-f709-437f-8ef7-c7905572f862",
   "metadata": {},
   "source": [
    "### 3.1 Dimensions of the Dataset"
   ]
  },
  {
   "cell_type": "code",
   "execution_count": 7,
   "id": "bc4e91e8-e91e-458b-9a87-b35790bf925f",
   "metadata": {},
   "outputs": [
    {
     "data": {
      "text/html": [
       "<style>\n",
       ".list-inline {list-style: none; margin:0; padding: 0}\n",
       ".list-inline>li {display: inline-block}\n",
       ".list-inline>li:not(:last-child)::after {content: \"\\00b7\"; padding: 0 .5ex}\n",
       "</style>\n",
       "<ol class=list-inline><li>120</li><li>5</li></ol>\n"
      ],
      "text/latex": [
       "\\begin{enumerate*}\n",
       "\\item 120\n",
       "\\item 5\n",
       "\\end{enumerate*}\n"
      ],
      "text/markdown": [
       "1. 120\n",
       "2. 5\n",
       "\n",
       "\n"
      ],
      "text/plain": [
       "[1] 120   5"
      ]
     },
     "metadata": {},
     "output_type": "display_data"
    }
   ],
   "source": [
    "dim(dataset)"
   ]
  },
  {
   "cell_type": "markdown",
   "id": "a20a123b-a053-4674-9faa-8a1b02438bbf",
   "metadata": {},
   "source": [
    "### 3.2 Listing the types of Attributes in the Dataset"
   ]
  },
  {
   "cell_type": "code",
   "execution_count": 8,
   "id": "19b16dd4-c84f-4631-9aa5-e793443c7a60",
   "metadata": {},
   "outputs": [
    {
     "data": {
      "text/html": [
       "<style>\n",
       ".dl-inline {width: auto; margin:0; padding: 0}\n",
       ".dl-inline>dt, .dl-inline>dd {float: none; width: auto; display: inline-block}\n",
       ".dl-inline>dt::after {content: \":\\0020\"; padding-right: .5ex}\n",
       ".dl-inline>dt:not(:first-of-type) {padding-left: .5ex}\n",
       "</style><dl class=dl-inline><dt>Sepal.Length</dt><dd>'numeric'</dd><dt>Sepal.Width</dt><dd>'numeric'</dd><dt>Petal.Length</dt><dd>'numeric'</dd><dt>Petal.Width</dt><dd>'numeric'</dd><dt>Species</dt><dd>'factor'</dd></dl>\n"
      ],
      "text/latex": [
       "\\begin{description*}\n",
       "\\item[Sepal.Length] 'numeric'\n",
       "\\item[Sepal.Width] 'numeric'\n",
       "\\item[Petal.Length] 'numeric'\n",
       "\\item[Petal.Width] 'numeric'\n",
       "\\item[Species] 'factor'\n",
       "\\end{description*}\n"
      ],
      "text/markdown": [
       "Sepal.Length\n",
       ":   'numeric'Sepal.Width\n",
       ":   'numeric'Petal.Length\n",
       ":   'numeric'Petal.Width\n",
       ":   'numeric'Species\n",
       ":   'factor'\n",
       "\n"
      ],
      "text/plain": [
       "Sepal.Length  Sepal.Width Petal.Length  Petal.Width      Species \n",
       "   \"numeric\"    \"numeric\"    \"numeric\"    \"numeric\"     \"factor\" "
      ]
     },
     "metadata": {},
     "output_type": "display_data"
    }
   ],
   "source": [
    "sapply(dataset, class)"
   ]
  },
  {
   "cell_type": "markdown",
   "id": "3ae198e2-9482-4799-a725-d69ae7adc382",
   "metadata": {},
   "source": [
    "### 3.3 Taking a peek at the first 5 rows of the Dataset"
   ]
  },
  {
   "cell_type": "code",
   "execution_count": 9,
   "id": "a58279d9-0f8b-4f09-818f-935b292e1b5a",
   "metadata": {},
   "outputs": [
    {
     "data": {
      "text/html": [
       "<table class=\"dataframe\">\n",
       "<caption>A data.frame: 6 × 5</caption>\n",
       "<thead>\n",
       "\t<tr><th></th><th scope=col>Sepal.Length</th><th scope=col>Sepal.Width</th><th scope=col>Petal.Length</th><th scope=col>Petal.Width</th><th scope=col>Species</th></tr>\n",
       "\t<tr><th></th><th scope=col>&lt;dbl&gt;</th><th scope=col>&lt;dbl&gt;</th><th scope=col>&lt;dbl&gt;</th><th scope=col>&lt;dbl&gt;</th><th scope=col>&lt;fct&gt;</th></tr>\n",
       "</thead>\n",
       "<tbody>\n",
       "\t<tr><th scope=row>2</th><td>4.9</td><td>3.0</td><td>1.4</td><td>0.2</td><td>setosa</td></tr>\n",
       "\t<tr><th scope=row>3</th><td>4.7</td><td>3.2</td><td>1.3</td><td>0.2</td><td>setosa</td></tr>\n",
       "\t<tr><th scope=row>4</th><td>4.6</td><td>3.1</td><td>1.5</td><td>0.2</td><td>setosa</td></tr>\n",
       "\t<tr><th scope=row>6</th><td>5.4</td><td>3.9</td><td>1.7</td><td>0.4</td><td>setosa</td></tr>\n",
       "\t<tr><th scope=row>7</th><td>4.6</td><td>3.4</td><td>1.4</td><td>0.3</td><td>setosa</td></tr>\n",
       "\t<tr><th scope=row>8</th><td>5.0</td><td>3.4</td><td>1.5</td><td>0.2</td><td>setosa</td></tr>\n",
       "</tbody>\n",
       "</table>\n"
      ],
      "text/latex": [
       "A data.frame: 6 × 5\n",
       "\\begin{tabular}{r|lllll}\n",
       "  & Sepal.Length & Sepal.Width & Petal.Length & Petal.Width & Species\\\\\n",
       "  & <dbl> & <dbl> & <dbl> & <dbl> & <fct>\\\\\n",
       "\\hline\n",
       "\t2 & 4.9 & 3.0 & 1.4 & 0.2 & setosa\\\\\n",
       "\t3 & 4.7 & 3.2 & 1.3 & 0.2 & setosa\\\\\n",
       "\t4 & 4.6 & 3.1 & 1.5 & 0.2 & setosa\\\\\n",
       "\t6 & 5.4 & 3.9 & 1.7 & 0.4 & setosa\\\\\n",
       "\t7 & 4.6 & 3.4 & 1.4 & 0.3 & setosa\\\\\n",
       "\t8 & 5.0 & 3.4 & 1.5 & 0.2 & setosa\\\\\n",
       "\\end{tabular}\n"
      ],
      "text/markdown": [
       "\n",
       "A data.frame: 6 × 5\n",
       "\n",
       "| <!--/--> | Sepal.Length &lt;dbl&gt; | Sepal.Width &lt;dbl&gt; | Petal.Length &lt;dbl&gt; | Petal.Width &lt;dbl&gt; | Species &lt;fct&gt; |\n",
       "|---|---|---|---|---|---|\n",
       "| 2 | 4.9 | 3.0 | 1.4 | 0.2 | setosa |\n",
       "| 3 | 4.7 | 3.2 | 1.3 | 0.2 | setosa |\n",
       "| 4 | 4.6 | 3.1 | 1.5 | 0.2 | setosa |\n",
       "| 6 | 5.4 | 3.9 | 1.7 | 0.4 | setosa |\n",
       "| 7 | 4.6 | 3.4 | 1.4 | 0.3 | setosa |\n",
       "| 8 | 5.0 | 3.4 | 1.5 | 0.2 | setosa |\n",
       "\n"
      ],
      "text/plain": [
       "  Sepal.Length Sepal.Width Petal.Length Petal.Width Species\n",
       "2 4.9          3.0         1.4          0.2         setosa \n",
       "3 4.7          3.2         1.3          0.2         setosa \n",
       "4 4.6          3.1         1.5          0.2         setosa \n",
       "6 5.4          3.9         1.7          0.4         setosa \n",
       "7 4.6          3.4         1.4          0.3         setosa \n",
       "8 5.0          3.4         1.5          0.2         setosa "
      ]
     },
     "metadata": {},
     "output_type": "display_data"
    }
   ],
   "source": [
    "head(dataset)"
   ]
  },
  {
   "cell_type": "markdown",
   "id": "b7b06540-6a1e-4b64-acb2-084c5fb7013d",
   "metadata": {},
   "source": [
    "### 3.4 looking at the levels of the Class for the species column"
   ]
  },
  {
   "cell_type": "code",
   "execution_count": 10,
   "id": "b8f4e150-b33c-49e8-8c86-b0e5d8d522f4",
   "metadata": {},
   "outputs": [
    {
     "data": {
      "text/html": [
       "<style>\n",
       ".list-inline {list-style: none; margin:0; padding: 0}\n",
       ".list-inline>li {display: inline-block}\n",
       ".list-inline>li:not(:last-child)::after {content: \"\\00b7\"; padding: 0 .5ex}\n",
       "</style>\n",
       "<ol class=list-inline><li>'setosa'</li><li>'versicolor'</li><li>'virginica'</li></ol>\n"
      ],
      "text/latex": [
       "\\begin{enumerate*}\n",
       "\\item 'setosa'\n",
       "\\item 'versicolor'\n",
       "\\item 'virginica'\n",
       "\\end{enumerate*}\n"
      ],
      "text/markdown": [
       "1. 'setosa'\n",
       "2. 'versicolor'\n",
       "3. 'virginica'\n",
       "\n",
       "\n"
      ],
      "text/plain": [
       "[1] \"setosa\"     \"versicolor\" \"virginica\" "
      ]
     },
     "metadata": {},
     "output_type": "display_data"
    }
   ],
   "source": [
    "levels(dataset$Species)"
   ]
  },
  {
   "cell_type": "markdown",
   "id": "837f5809-98e1-4162-82ad-6cc68df87457",
   "metadata": {},
   "source": [
    "### 3.5 Looking at the Class Distribution of the species column"
   ]
  },
  {
   "cell_type": "code",
   "execution_count": 12,
   "id": "f2722908-196b-47a6-b94c-9d720eefc054",
   "metadata": {},
   "outputs": [
    {
     "data": {
      "text/html": [
       "<table class=\"dataframe\">\n",
       "<caption>A matrix: 3 × 2 of type dbl</caption>\n",
       "<thead>\n",
       "\t<tr><th></th><th scope=col>freq</th><th scope=col>percentage</th></tr>\n",
       "</thead>\n",
       "<tbody>\n",
       "\t<tr><th scope=row>setosa</th><td>40</td><td>33.33333</td></tr>\n",
       "\t<tr><th scope=row>versicolor</th><td>40</td><td>33.33333</td></tr>\n",
       "\t<tr><th scope=row>virginica</th><td>40</td><td>33.33333</td></tr>\n",
       "</tbody>\n",
       "</table>\n"
      ],
      "text/latex": [
       "A matrix: 3 × 2 of type dbl\n",
       "\\begin{tabular}{r|ll}\n",
       "  & freq & percentage\\\\\n",
       "\\hline\n",
       "\tsetosa & 40 & 33.33333\\\\\n",
       "\tversicolor & 40 & 33.33333\\\\\n",
       "\tvirginica & 40 & 33.33333\\\\\n",
       "\\end{tabular}\n"
      ],
      "text/markdown": [
       "\n",
       "A matrix: 3 × 2 of type dbl\n",
       "\n",
       "| <!--/--> | freq | percentage |\n",
       "|---|---|---|\n",
       "| setosa | 40 | 33.33333 |\n",
       "| versicolor | 40 | 33.33333 |\n",
       "| virginica | 40 | 33.33333 |\n",
       "\n"
      ],
      "text/plain": [
       "           freq percentage\n",
       "setosa     40   33.33333  \n",
       "versicolor 40   33.33333  \n",
       "virginica  40   33.33333  "
      ]
     },
     "metadata": {},
     "output_type": "display_data"
    }
   ],
   "source": [
    "percentage <- prop.table(table(dataset$Species)) * 100\n",
    "\n",
    "cbind(freq=table(dataset$Species), percentage=percentage)"
   ]
  },
  {
   "cell_type": "markdown",
   "id": "d8003b85-085a-41c9-a41c-867681cf90cc",
   "metadata": {},
   "source": [
    "### 3.6 Statistical Summary of the Dataset"
   ]
  },
  {
   "cell_type": "code",
   "execution_count": 13,
   "id": "39723aa0-19c0-4086-9b61-8416f66bf565",
   "metadata": {},
   "outputs": [
    {
     "data": {
      "text/plain": [
       "  Sepal.Length    Sepal.Width     Petal.Length    Petal.Width   \n",
       " Min.   :4.300   Min.   :2.000   Min.   :1.000   Min.   :0.100  \n",
       " 1st Qu.:5.100   1st Qu.:2.800   1st Qu.:1.575   1st Qu.:0.300  \n",
       " Median :5.800   Median :3.000   Median :4.350   Median :1.300  \n",
       " Mean   :5.824   Mean   :3.042   Mean   :3.742   Mean   :1.203  \n",
       " 3rd Qu.:6.400   3rd Qu.:3.300   3rd Qu.:5.100   3rd Qu.:1.800  \n",
       " Max.   :7.700   Max.   :4.200   Max.   :6.900   Max.   :2.500  \n",
       "       Species  \n",
       " setosa    :40  \n",
       " versicolor:40  \n",
       " virginica :40  \n",
       "                \n",
       "                \n",
       "                "
      ]
     },
     "metadata": {},
     "output_type": "display_data"
    }
   ],
   "source": [
    "summary(dataset)"
   ]
  },
  {
   "cell_type": "markdown",
   "id": "5ce8eb45-d72d-4850-a8c5-c2ccd4487418",
   "metadata": {},
   "source": [
    "### 4.0 Visualizing the Dataset"
   ]
  },
  {
   "cell_type": "code",
   "execution_count": null,
   "id": "e9e1fd5b-d435-42ea-8c5b-caf335568429",
   "metadata": {},
   "outputs": [],
   "source": []
  }
 ],
 "metadata": {
  "kernelspec": {
   "display_name": "R",
   "language": "R",
   "name": "ir"
  },
  "language_info": {
   "codemirror_mode": "r",
   "file_extension": ".r",
   "mimetype": "text/x-r-source",
   "name": "R",
   "pygments_lexer": "r",
   "version": "4.0.5"
  }
 },
 "nbformat": 4,
 "nbformat_minor": 5
}
