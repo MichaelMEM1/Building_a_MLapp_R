{
 "cells": [
  {
   "cell_type": "markdown",
   "id": "25c3f7f8-a766-4b32-afb0-d590467fbf68",
   "metadata": {},
   "source": [
    "# Building a Machine Learning App in R"
   ]
  },
  {
   "cell_type": "markdown",
   "id": "00747c8e-8d0a-456c-b93e-e4daaab99b64",
   "metadata": {},
   "source": [
    "## BSGP 7030 Summer 2024"
   ]
  },
  {
   "cell_type": "code",
   "execution_count": null,
   "id": "8b10cfd0-1341-4b39-a6ee-8804c0795871",
   "metadata": {},
   "outputs": [],
   "source": []
  }
 ],
 "metadata": {
  "kernelspec": {
   "display_name": "R",
   "language": "R",
   "name": "ir"
  },
  "language_info": {
   "codemirror_mode": "r",
   "file_extension": ".r",
   "mimetype": "text/x-r-source",
   "name": "R",
   "pygments_lexer": "r",
   "version": "4.0.5"
  }
 },
 "nbformat": 4,
 "nbformat_minor": 5
}
